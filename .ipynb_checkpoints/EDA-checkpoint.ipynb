{
 "cells": [
  {
   "cell_type": "markdown",
   "metadata": {},
   "source": [
    "1. **First, I will start by outlining the problems/questions I aim to answer through this Exploratory Data Analysis.**\n",
    "2. **I have already scraped the specific data needed from FBref, stored in the Fbref_scrape.py file.**\n",
    "3. **For analytical purposes, the extracted data has been saved in CSV format, with each CSV file stored in the this very directory/folder.**\n",
    "4. **In the next section, I will specify the questions I intend to answer through this EDA.**"
   ]
  },
  {
   "cell_type": "markdown",
   "metadata": {},
   "source": [
    "### Questions I aim to answer:\n",
    "#### xG vs. xGA: How Balanced Are Teams?\n",
    "#### Offensive Efficiency: Who is Outperforming Their xG?\n",
    "#### Goalkeeping Efficiency: How Effective Are Teams in Goal Prevention?\n",
    "#### Defensive Solidity: Which Teams Excel in Interceptions and Blocks?\n",
    "#### Creative Buildup: Which Teams Excel in Progressive Passes and Carries?\n",
    "#### Goalkeeping Advanced Metrics: Which Teams Excel in Sweeper Actions?"
   ]
  },
  {
   "cell_type": "code",
   "execution_count": null,
   "metadata": {
    "editable": true,
    "slideshow": {
     "slide_type": ""
    },
    "tags": []
   },
   "outputs": [],
   "source": []
  }
 ],
 "metadata": {
  "kernelspec": {
   "display_name": "Python 3 (ipykernel)",
   "language": "python",
   "name": "python3"
  },
  "language_info": {
   "codemirror_mode": {
    "name": "ipython",
    "version": 3
   },
   "file_extension": ".py",
   "mimetype": "text/x-python",
   "name": "python",
   "nbconvert_exporter": "python",
   "pygments_lexer": "ipython3",
   "version": "3.11.9"
  }
 },
 "nbformat": 4,
 "nbformat_minor": 4
}
